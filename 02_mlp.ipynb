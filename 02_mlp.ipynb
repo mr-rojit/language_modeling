{
  "nbformat": 4,
  "nbformat_minor": 0,
  "metadata": {
    "colab": {
      "provenance": [],
      "authorship_tag": "ABX9TyO6OJBN4eixLwxApffjxCaF"
    },
    "kernelspec": {
      "name": "python3",
      "display_name": "Python 3"
    },
    "language_info": {
      "name": "python"
    }
  },
  "cells": [
    {
      "cell_type": "code",
      "execution_count": 5,
      "metadata": {
        "id": "i5B-B2q8Cb82"
      },
      "outputs": [],
      "source": [
        "# importing essential libraries\n",
        "import torch\n",
        "import matplotlib.pyplot as plt\n",
        "import string"
      ]
    },
    {
      "cell_type": "code",
      "source": [
        "words = open('data.txt').read().splitlines()\n",
        "len(words)"
      ],
      "metadata": {
        "colab": {
          "base_uri": "https://localhost:8080/"
        },
        "id": "mf0DcBtgCoRb",
        "outputId": "7a7bdce8-fb03-4ce7-d763-f4e9ea4e19e5"
      },
      "execution_count": 6,
      "outputs": [
        {
          "output_type": "execute_result",
          "data": {
            "text/plain": [
              "32033"
            ]
          },
          "metadata": {},
          "execution_count": 6
        }
      ]
    },
    {
      "cell_type": "markdown",
      "source": [
        "mapping string to int repr"
      ],
      "metadata": {
        "id": "Pd6IEKSsDOvY"
      }
    },
    {
      "cell_type": "code",
      "source": [
        "alpha = string.ascii_lowercase\n",
        "s_to_i = {}\n",
        "s_to_i['.'] = 0\n",
        "for i,j in enumerate(alpha):\n",
        "  s_to_i[j] = i+1\n",
        "\n",
        "i_to_s = {j:i for i, j in s_to_i.items()}\n",
        "\n",
        "s_to_i, i_to_s"
      ],
      "metadata": {
        "colab": {
          "base_uri": "https://localhost:8080/"
        },
        "id": "PKePIUJoCuoM",
        "outputId": "1ae8d9e5-9d35-4a76-c626-16a0f346fcf7"
      },
      "execution_count": 7,
      "outputs": [
        {
          "output_type": "execute_result",
          "data": {
            "text/plain": [
              "({'.': 0,\n",
              "  'a': 1,\n",
              "  'b': 2,\n",
              "  'c': 3,\n",
              "  'd': 4,\n",
              "  'e': 5,\n",
              "  'f': 6,\n",
              "  'g': 7,\n",
              "  'h': 8,\n",
              "  'i': 9,\n",
              "  'j': 10,\n",
              "  'k': 11,\n",
              "  'l': 12,\n",
              "  'm': 13,\n",
              "  'n': 14,\n",
              "  'o': 15,\n",
              "  'p': 16,\n",
              "  'q': 17,\n",
              "  'r': 18,\n",
              "  's': 19,\n",
              "  't': 20,\n",
              "  'u': 21,\n",
              "  'v': 22,\n",
              "  'w': 23,\n",
              "  'x': 24,\n",
              "  'y': 25,\n",
              "  'z': 26},\n",
              " {0: '.',\n",
              "  1: 'a',\n",
              "  2: 'b',\n",
              "  3: 'c',\n",
              "  4: 'd',\n",
              "  5: 'e',\n",
              "  6: 'f',\n",
              "  7: 'g',\n",
              "  8: 'h',\n",
              "  9: 'i',\n",
              "  10: 'j',\n",
              "  11: 'k',\n",
              "  12: 'l',\n",
              "  13: 'm',\n",
              "  14: 'n',\n",
              "  15: 'o',\n",
              "  16: 'p',\n",
              "  17: 'q',\n",
              "  18: 'r',\n",
              "  19: 's',\n",
              "  20: 't',\n",
              "  21: 'u',\n",
              "  22: 'v',\n",
              "  23: 'w',\n",
              "  24: 'x',\n",
              "  25: 'y',\n",
              "  26: 'z'})"
            ]
          },
          "metadata": {},
          "execution_count": 7
        }
      ]
    },
    {
      "cell_type": "code",
      "source": [
        "BLOCK_SIZE = 3\n",
        "X, Y = [], []\n",
        "\n",
        "for w in words[:5]:\n",
        "  context = [0]*3\n",
        "  for ch in w+'.':\n",
        "    ix = s_to_i[ch]\n",
        "    X.append(context)\n",
        "    Y.append(ix)\n",
        "    context = context[1:]+[ix]\n",
        "X = torch.tensor(X)\n",
        "Y = torch.tensor(Y)"
      ],
      "metadata": {
        "id": "AwMeRvyZDBXk"
      },
      "execution_count": 8,
      "outputs": []
    },
    {
      "cell_type": "code",
      "source": [
        "X.shape"
      ],
      "metadata": {
        "colab": {
          "base_uri": "https://localhost:8080/"
        },
        "id": "l7iRQ9BBFBBO",
        "outputId": "60e49775-e711-4379-ef2d-63757ef9d85f"
      },
      "execution_count": 9,
      "outputs": [
        {
          "output_type": "execute_result",
          "data": {
            "text/plain": [
              "torch.Size([32, 3])"
            ]
          },
          "metadata": {},
          "execution_count": 9
        }
      ]
    },
    {
      "cell_type": "markdown",
      "source": [
        "Embedding and lookup table"
      ],
      "metadata": {
        "id": "LPLcipisJVVZ"
      }
    },
    {
      "cell_type": "code",
      "source": [
        "# creating 2 dimentional\n",
        "\n",
        "C = torch.randn(27, 2) # 27 possible characters\n",
        "C"
      ],
      "metadata": {
        "colab": {
          "base_uri": "https://localhost:8080/"
        },
        "id": "nKpQtWQTH9lP",
        "outputId": "ca92f7b5-bc66-4920-b217-f5022a269120"
      },
      "execution_count": 17,
      "outputs": [
        {
          "output_type": "execute_result",
          "data": {
            "text/plain": [
              "tensor([[ 0.7610, -0.1626],\n",
              "        [-0.0678, -0.0289],\n",
              "        [ 0.2472, -0.7467],\n",
              "        [ 0.8990,  0.2239],\n",
              "        [ 0.6837, -0.1105],\n",
              "        [-0.0250,  1.9084],\n",
              "        [ 1.8043, -1.3448],\n",
              "        [ 1.6906, -2.3319],\n",
              "        [-0.6143, -0.1206],\n",
              "        [-2.4175, -0.4658],\n",
              "        [ 0.8864, -0.4032],\n",
              "        [ 1.2043, -1.2352],\n",
              "        [-0.8181,  1.6980],\n",
              "        [-2.4385,  0.0231],\n",
              "        [-1.7299,  0.1299],\n",
              "        [ 1.5005,  2.4442],\n",
              "        [-1.4947,  1.9926],\n",
              "        [-1.0471,  1.3046],\n",
              "        [ 0.9270,  0.2398],\n",
              "        [ 1.8428,  1.4790],\n",
              "        [ 1.1822, -0.1446],\n",
              "        [-0.2921,  0.1940],\n",
              "        [-0.9939,  0.0836],\n",
              "        [ 0.7851,  0.9459],\n",
              "        [ 0.8176, -0.4434],\n",
              "        [ 0.4131, -2.5872],\n",
              "        [-0.9261, -0.5286]])"
            ]
          },
          "metadata": {},
          "execution_count": 17
        }
      ]
    },
    {
      "cell_type": "code",
      "source": [
        "emb = C[X]\n",
        "emb.shape"
      ],
      "metadata": {
        "colab": {
          "base_uri": "https://localhost:8080/"
        },
        "id": "u6Lu_rowO0sc",
        "outputId": "143fc726-8fcf-44f2-93cd-f34c6e061f91"
      },
      "execution_count": 59,
      "outputs": [
        {
          "output_type": "execute_result",
          "data": {
            "text/plain": [
              "torch.Size([32, 3, 2])"
            ]
          },
          "metadata": {},
          "execution_count": 59
        }
      ]
    },
    {
      "cell_type": "code",
      "source": [
        "# create Weight matrix\n",
        "W1 = torch.randn((6, 100))\n",
        "b1 = torch.randn(100)"
      ],
      "metadata": {
        "id": "rsv_vnQHjSyt"
      },
      "execution_count": 63,
      "outputs": []
    },
    {
      "cell_type": "code",
      "source": [
        "h = torch.tanh((emb.view(32,6) @ W1) + b1)\n",
        "h"
      ],
      "metadata": {
        "colab": {
          "base_uri": "https://localhost:8080/"
        },
        "id": "Zn1DR2lycrEA",
        "outputId": "117f5fc3-3bce-4732-c5b7-629dbfbd0413"
      },
      "execution_count": 68,
      "outputs": [
        {
          "output_type": "execute_result",
          "data": {
            "text/plain": [
              "tensor([[ 0.8916,  0.9690,  0.1791,  ..., -0.6209,  0.1230,  0.9294],\n",
              "        [ 1.0000,  0.9626,  0.5945,  ...,  0.8735,  0.9945,  0.9705],\n",
              "        [-0.9995,  0.9979,  1.0000,  ...,  0.9683,  1.0000, -0.9276],\n",
              "        ...,\n",
              "        [-0.9354,  0.9055,  1.0000,  ...,  0.9781,  1.0000, -0.9948],\n",
              "        [-0.3040, -0.9994,  1.0000,  ...,  0.4769, -0.9409,  0.9319],\n",
              "        [ 0.9742, -0.9964,  0.8267,  ...,  0.9666,  0.9868,  0.9957]])"
            ]
          },
          "metadata": {},
          "execution_count": 68
        }
      ]
    },
    {
      "cell_type": "code",
      "source": [
        "h.shape"
      ],
      "metadata": {
        "colab": {
          "base_uri": "https://localhost:8080/"
        },
        "id": "PGSeUlyCgRK7",
        "outputId": "c3d728f7-01a9-47de-e575-c258a776a99a"
      },
      "execution_count": 69,
      "outputs": [
        {
          "output_type": "execute_result",
          "data": {
            "text/plain": [
              "torch.Size([32, 100])"
            ]
          },
          "metadata": {},
          "execution_count": 69
        }
      ]
    },
    {
      "cell_type": "code",
      "source": [],
      "metadata": {
        "id": "hfOTS60EhXR0"
      },
      "execution_count": null,
      "outputs": []
    }
  ]
}