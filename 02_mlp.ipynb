{
  "nbformat": 4,
  "nbformat_minor": 0,
  "metadata": {
    "colab": {
      "provenance": [],
      "authorship_tag": "ABX9TyOSrpxSZjwjEKzuHRxQP9UQ",
      "include_colab_link": true
    },
    "kernelspec": {
      "name": "python3",
      "display_name": "Python 3"
    },
    "language_info": {
      "name": "python"
    }
  },
  "cells": [
    {
      "cell_type": "markdown",
      "metadata": {
        "id": "view-in-github",
        "colab_type": "text"
      },
      "source": [
        "<a href=\"https://colab.research.google.com/github/mr-rojit/language_modeling/blob/main/02_mlp.ipynb\" target=\"_parent\"><img src=\"https://colab.research.google.com/assets/colab-badge.svg\" alt=\"Open In Colab\"/></a>"
      ]
    },
    {
      "cell_type": "code",
      "execution_count": 5,
      "metadata": {
        "id": "i5B-B2q8Cb82"
      },
      "outputs": [],
      "source": [
        "# importing essential libraries\n",
        "import torch\n",
        "import matplotlib.pyplot as plt\n",
        "import string"
      ]
    },
    {
      "cell_type": "code",
      "source": [
        "words = open('data.txt').read().splitlines()\n",
        "len(words)"
      ],
      "metadata": {
        "colab": {
          "base_uri": "https://localhost:8080/"
        },
        "id": "mf0DcBtgCoRb",
        "outputId": "7a7bdce8-fb03-4ce7-d763-f4e9ea4e19e5"
      },
      "execution_count": 6,
      "outputs": [
        {
          "output_type": "execute_result",
          "data": {
            "text/plain": [
              "32033"
            ]
          },
          "metadata": {},
          "execution_count": 6
        }
      ]
    },
    {
      "cell_type": "markdown",
      "source": [
        "mapping string to int repr"
      ],
      "metadata": {
        "id": "Pd6IEKSsDOvY"
      }
    },
    {
      "cell_type": "code",
      "source": [
        "alpha = string.ascii_lowercase\n",
        "s_to_i = {}\n",
        "s_to_i['.'] = 0\n",
        "for i,j in enumerate(alpha):\n",
        "  s_to_i[j] = i+1\n",
        "\n",
        "i_to_s = {j:i for i, j in s_to_i.items()}\n",
        "\n",
        "s_to_i, i_to_s"
      ],
      "metadata": {
        "colab": {
          "base_uri": "https://localhost:8080/"
        },
        "id": "PKePIUJoCuoM",
        "outputId": "1ae8d9e5-9d35-4a76-c626-16a0f346fcf7"
      },
      "execution_count": 7,
      "outputs": [
        {
          "output_type": "execute_result",
          "data": {
            "text/plain": [
              "({'.': 0,\n",
              "  'a': 1,\n",
              "  'b': 2,\n",
              "  'c': 3,\n",
              "  'd': 4,\n",
              "  'e': 5,\n",
              "  'f': 6,\n",
              "  'g': 7,\n",
              "  'h': 8,\n",
              "  'i': 9,\n",
              "  'j': 10,\n",
              "  'k': 11,\n",
              "  'l': 12,\n",
              "  'm': 13,\n",
              "  'n': 14,\n",
              "  'o': 15,\n",
              "  'p': 16,\n",
              "  'q': 17,\n",
              "  'r': 18,\n",
              "  's': 19,\n",
              "  't': 20,\n",
              "  'u': 21,\n",
              "  'v': 22,\n",
              "  'w': 23,\n",
              "  'x': 24,\n",
              "  'y': 25,\n",
              "  'z': 26},\n",
              " {0: '.',\n",
              "  1: 'a',\n",
              "  2: 'b',\n",
              "  3: 'c',\n",
              "  4: 'd',\n",
              "  5: 'e',\n",
              "  6: 'f',\n",
              "  7: 'g',\n",
              "  8: 'h',\n",
              "  9: 'i',\n",
              "  10: 'j',\n",
              "  11: 'k',\n",
              "  12: 'l',\n",
              "  13: 'm',\n",
              "  14: 'n',\n",
              "  15: 'o',\n",
              "  16: 'p',\n",
              "  17: 'q',\n",
              "  18: 'r',\n",
              "  19: 's',\n",
              "  20: 't',\n",
              "  21: 'u',\n",
              "  22: 'v',\n",
              "  23: 'w',\n",
              "  24: 'x',\n",
              "  25: 'y',\n",
              "  26: 'z'})"
            ]
          },
          "metadata": {},
          "execution_count": 7
        }
      ]
    },
    {
      "cell_type": "code",
      "source": [
        "BLOCK_SIZE = 3\n",
        "X, Y = [], []\n",
        "\n",
        "for w in words[:5]:\n",
        "  context = [0]*3\n",
        "  for ch in w+'.':\n",
        "    ix = s_to_i[ch]\n",
        "    X.append(context)\n",
        "    Y.append(ix)\n",
        "    context = context[1:]+[ix]\n",
        "X = torch.tensor(X)\n",
        "Y = torch.tensor(Y)"
      ],
      "metadata": {
        "id": "AwMeRvyZDBXk"
      },
      "execution_count": 8,
      "outputs": []
    },
    {
      "cell_type": "code",
      "source": [
        "X.shape"
      ],
      "metadata": {
        "colab": {
          "base_uri": "https://localhost:8080/"
        },
        "id": "l7iRQ9BBFBBO",
        "outputId": "60e49775-e711-4379-ef2d-63757ef9d85f"
      },
      "execution_count": 9,
      "outputs": [
        {
          "output_type": "execute_result",
          "data": {
            "text/plain": [
              "torch.Size([32, 3])"
            ]
          },
          "metadata": {},
          "execution_count": 9
        }
      ]
    },
    {
      "cell_type": "markdown",
      "source": [
        "Embedding and lookup table"
      ],
      "metadata": {
        "id": "LPLcipisJVVZ"
      }
    },
    {
      "cell_type": "code",
      "source": [
        "# creating 2 dimentional\n",
        "\n",
        "C = torch.randn(27, 2)\n",
        "C"
      ],
      "metadata": {
        "colab": {
          "base_uri": "https://localhost:8080/"
        },
        "id": "nKpQtWQTH9lP",
        "outputId": "8566ad72-9f2f-4cd2-c301-d84037b58daa"
      },
      "execution_count": 10,
      "outputs": [
        {
          "output_type": "execute_result",
          "data": {
            "text/plain": [
              "tensor([[-1.1232, -0.6061],\n",
              "        [-0.2395, -0.7067],\n",
              "        [-0.7483, -1.0557],\n",
              "        [-0.5392,  1.6935],\n",
              "        [-0.5932,  1.1476],\n",
              "        [ 1.2241, -0.0061],\n",
              "        [-1.1201, -0.4286],\n",
              "        [-0.4319,  0.4694],\n",
              "        [ 1.2068, -0.8043],\n",
              "        [-0.5868, -1.7468],\n",
              "        [ 2.6338,  0.6919],\n",
              "        [ 0.9810,  0.1957],\n",
              "        [ 2.0622, -0.0956],\n",
              "        [-0.3191,  0.6359],\n",
              "        [ 1.2753,  0.8472],\n",
              "        [-0.7182, -0.0174],\n",
              "        [ 1.2642, -0.6896],\n",
              "        [-0.1629,  0.0584],\n",
              "        [ 0.4904,  0.7158],\n",
              "        [-0.1530,  1.9998],\n",
              "        [ 0.4502, -1.2838],\n",
              "        [-0.0423, -0.4842],\n",
              "        [ 2.2122,  0.2973],\n",
              "        [ 0.1783,  1.2002],\n",
              "        [ 0.1310,  0.4956],\n",
              "        [-0.4910, -0.9046],\n",
              "        [ 0.6264,  1.5191]])"
            ]
          },
          "metadata": {},
          "execution_count": 10
        }
      ]
    },
    {
      "cell_type": "code",
      "source": [],
      "metadata": {
        "colab": {
          "base_uri": "https://localhost:8080/"
        },
        "id": "u6Lu_rowO0sc",
        "outputId": "4eb76142-7294-48c5-e543-da2b16a29502"
      },
      "execution_count": 12,
      "outputs": [
        {
          "output_type": "execute_result",
          "data": {
            "text/plain": [
              "tensor([[ 1.2241, -0.0061],\n",
              "        [ 1.2241, -0.0061]])"
            ]
          },
          "metadata": {},
          "execution_count": 12
        }
      ]
    },
    {
      "cell_type": "code",
      "source": [],
      "metadata": {
        "id": "7YXKXO8ZPSvM"
      },
      "execution_count": null,
      "outputs": []
    },
    {
      "cell_type": "code",
      "source": [],
      "metadata": {
        "id": "iHXSkFz4Qkao"
      },
      "execution_count": null,
      "outputs": []
    }
  ]
}